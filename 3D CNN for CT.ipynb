{
 "cells": [
  {
   "cell_type": "markdown",
   "id": "ae56feca",
   "metadata": {},
   "source": [
    "# Introduction\n",
    "Building a 3D CNN to predict the presence of viral pneumonia in CT scans"
   ]
  },
  {
   "cell_type": "code",
   "execution_count": 1,
   "id": "54f9aa95",
   "metadata": {},
   "outputs": [],
   "source": [
    "import os\n",
    "import zipfile \n",
    "import numpy as np\n",
    "import tensorflow as tf\n",
    "\n",
    "from tensorflow import keras\n",
    "from tensorflow.keras import layers"
   ]
  },
  {
   "cell_type": "code",
   "execution_count": 2,
   "id": "01e131ef",
   "metadata": {},
   "outputs": [],
   "source": [
    "import nibabel as nib\n",
    "from scipy import ndimage"
   ]
  },
  {
   "cell_type": "code",
   "execution_count": 30,
   "id": "35594f9c",
   "metadata": {},
   "outputs": [],
   "source": [
    "import random\n",
    "import matplotlib.pyplot as plt"
   ]
  },
  {
   "cell_type": "markdown",
   "id": "d7b3b08d",
   "metadata": {},
   "source": [
    "# The MosMedData \n",
    "Consists of lung CT scans with COVID-19 related findigs as well as without such findings"
   ]
  },
  {
   "cell_type": "code",
   "execution_count": 3,
   "id": "5735dd2b",
   "metadata": {},
   "outputs": [
    {
     "name": "stdout",
     "output_type": "stream",
     "text": [
      "Downloading data from https://github.com/hasibzunair/3D-image-classification-tutorial/releases/download/v0.2/CT-0.zip\n",
      "1065471431/1065471431 [==============================] - 1372s 1us/step\n",
      "Downloading data from https://github.com/hasibzunair/3D-image-classification-tutorial/releases/download/v0.2/CT-23.zip\n",
      "1045162547/1045162547 [==============================] - 1061s 1us/step\n"
     ]
    }
   ],
   "source": [
    "# Download url of normal CT scans.\n",
    "url = \"https://github.com/hasibzunair/3D-image-classification-tutorial/releases/download/v0.2/CT-0.zip\"\n",
    "filename = os.path.join(os.getcwd(), \"CT-0.zip\")\n",
    "keras.utils.get_file(filename, url)\n",
    "\n",
    "# Download url of abnormal CT scans.\n",
    "url = \"https://github.com/hasibzunair/3D-image-classification-tutorial/releases/download/v0.2/CT-23.zip\"\n",
    "filename = os.path.join(os.getcwd(), \"CT-23.zip\")\n",
    "keras.utils.get_file(filename, url)\n",
    "\n",
    "# Make a directory to store the data.\n",
    "os.makedirs(\"MosMedData\")\n",
    "\n",
    "# Unzip data in the newly created directory.\n",
    "with zipfile.ZipFile(\"CT-0.zip\", \"r\") as z_fp:\n",
    "    z_fp.extractall(\"./MosMedData/\")\n",
    "\n",
    "with zipfile.ZipFile(\"CT-23.zip\", \"r\") as z_fp:\n",
    "    z_fp.extractall(\"./MosMedData/\")"
   ]
  },
  {
   "cell_type": "code",
   "execution_count": 3,
   "id": "0ec1de2b",
   "metadata": {},
   "outputs": [],
   "source": [
    "def read_nifti_file(filepath):\n",
    "    scan = nib.load(filepath)\n",
    "    scan = scan.get_fdata()\n",
    "    \n",
    "    return scan\n",
    "\n",
    "def normalize(volume):\n",
    "    min_scale, max_scale = -1000, 400\n",
    "    \n",
    "    volume[volume < min_scale] = min_scale\n",
    "    volume[volume > max_scale] = max_scale\n",
    "    \n",
    "    volume = (volume - min_scale) / (max_scale - min_scale)\n",
    "    volume = volume.astype(\"float32\")\n",
    "    \n",
    "    return volume\n",
    "\n",
    "def resize_volume(img):\n",
    "    \n",
    "    desired_depth = 64\n",
    "    desired_width = 128\n",
    "    desired_height = 128\n",
    "    \n",
    "    current_depth = img.shape[-1]\n",
    "    current_width = img.shape[0]\n",
    "    current_height = img.shape[1]\n",
    "    \n",
    "    depth = current_depth / desired_depth\n",
    "    width = current_width / desired_width\n",
    "    height = current_height / desired_height\n",
    "    \n",
    "    depth_factor = 1 / depth\n",
    "    width_factor = 1 / width\n",
    "    height_factor = 1 / height\n",
    "    \n",
    "    img = ndimage.rotate(img, 90, reshape=False)\n",
    "    \n",
    "    img = ndimage.zoom(img, (width_factor, height_factor, depth_factor), order=1)\n",
    "    \n",
    "    return img\n",
    "\n",
    "def process_scan(path):\n",
    "    \n",
    "    volume = read_nifti_file(path)\n",
    "    volume = normalize(volume)\n",
    "    volume = resize_volume(volume)\n",
    "    \n",
    "    return volume"
   ]
  },
  {
   "cell_type": "code",
   "execution_count": 4,
   "id": "7c4e25ec",
   "metadata": {},
   "outputs": [
    {
     "name": "stdout",
     "output_type": "stream",
     "text": [
      "CT scans with normal lung tissue:  100\n",
      "CT scans with abnormal lung tissue:  100\n"
     ]
    }
   ],
   "source": [
    "normal_scan_paths = [\n",
    "    os.path.join(os.getcwd(), \"MosMedData/CT-0\", x) \n",
    "    for x in os.listdir(\"MosMedData/CT-0\")\n",
    "]\n",
    "\n",
    "abnormal_scan_paths = [\n",
    "    os.path.join(os.getcwd(), \"MosMedData/CT-23\", x)\n",
    "    for x in os.listdir(\"MosMedData/CT-23\")\n",
    "]\n",
    "\n",
    "print(\"CT scans with normal lung tissue: \", len(normal_scan_paths))\n",
    "print(\"CT scans with abnormal lung tissue: \", len(abnormal_scan_paths))"
   ]
  },
  {
   "cell_type": "code",
   "execution_count": 23,
   "id": "e6871cc6",
   "metadata": {},
   "outputs": [
    {
     "name": "stdout",
     "output_type": "stream",
     "text": [
      "Number of samples in train and validation are:  140 and  60 respectively\n"
     ]
    }
   ],
   "source": [
    "# %%timeit  -n 1 -r 1\n",
    "abnormal_scans = np.array([process_scan(path) for path in abnormal_scan_paths])\n",
    "normal_scans = np.array([process_scan(path) for path in normal_scan_paths])\n",
    "\n",
    "abnormal_labels = np.array([1 for _ in range(len(abnormal_scans))])\n",
    "normal_labels = np.array([0 for _ in range(len(normal_scans))])\n",
    "\n",
    "x_train = np.concatenate((abnormal_scans[:70], normal_scans[:70]), axis=0)\n",
    "y_train = np.concatenate((abnormal_labels[:70], normal_labels[:70]), axis=0)\n",
    "x_val = np.concatenate((abnormal_scans[70:], normal_scans[70:]), axis=0)\n",
    "y_val = np.concatenate((abnormal_labels[70:], normal_labels[70:]), axis=0)\n",
    "\n",
    "print(\"Number of samples in train and validation are: \", x_train.shape[0], \n",
    "      \"and \", x_val.shape[0], \"respectively\")"
   ]
  },
  {
   "cell_type": "code",
   "execution_count": 24,
   "id": "4b5366cb",
   "metadata": {},
   "outputs": [
    {
     "data": {
      "text/plain": [
       "(140, 128, 128, 64)"
      ]
     },
     "execution_count": 24,
     "metadata": {},
     "output_type": "execute_result"
    }
   ],
   "source": [
    "x_train.shape"
   ]
  },
  {
   "cell_type": "markdown",
   "id": "22e3d1ae",
   "metadata": {},
   "source": [
    "## Data Augmentation"
   ]
  },
  {
   "cell_type": "code",
   "execution_count": 27,
   "id": "9a4a6d0c",
   "metadata": {},
   "outputs": [],
   "source": [
    "@tf.function\n",
    "def rotate(volume):\n",
    "    \n",
    "    def scipy_rotate(volume):\n",
    "        angles = [-20, -10, -5, 5, 10, 20]\n",
    "        angle = random.choice(angles)\n",
    "        \n",
    "        volume = ndimage.rotate(volume, angle, reshape=False)\n",
    "        volume[volume < 0] = 0\n",
    "        volume[volume > 1] = 1\n",
    "        return volume\n",
    "    \n",
    "    augmented_volume = tf.numpy_function(scipy_rotate, [volume], tf.float32)\n",
    "    return augmented_volume\n",
    "\n",
    "def train_preprocessing(volume, label):\n",
    "    \n",
    "    volume = rotate(volume)\n",
    "    volume = tf.expand_dims(volume, axis=3)\n",
    "    return volume, label\n",
    "\n",
    "def validation_preprocessing(volume, label):\n",
    "    volume = tf.expand_dims(volume, axis=3)\n",
    "    return volume, label"
   ]
  },
  {
   "cell_type": "code",
   "execution_count": 28,
   "id": "b2de3da9",
   "metadata": {},
   "outputs": [
    {
     "name": "stderr",
     "output_type": "stream",
     "text": [
      "2023-06-01 22:48:25.313278: W tensorflow/core/framework/cpu_allocator_impl.cc:82] Allocation of 587202560 exceeds 10% of free system memory.\n"
     ]
    }
   ],
   "source": [
    "train_loader = tf.data.Dataset.from_tensor_slices((x_train, y_train))\n",
    "validation_loader = tf.data.Dataset.from_tensor_slices((x_val, y_val))\n",
    "\n",
    "batch_size = 2\n",
    "\n",
    "train_dataset = (\n",
    "    train_loader.shuffle(len(x_train)).map(train_preprocessing)\n",
    "    .batch(batch_size).prefetch(2)\n",
    ")\n",
    "\n",
    "validation_dataset = (\n",
    "    validation_loader.shuffle(len(x_val)).map(validation_preprocessing)\n",
    "    .batch(batch_size).prefetch(2)\n",
    ")"
   ]
  },
  {
   "cell_type": "code",
   "execution_count": 32,
   "id": "45fcdeb4",
   "metadata": {},
   "outputs": [
    {
     "data": {
      "text/plain": [
       "<matplotlib.image.AxesImage at 0x7f3371fa38e0>"
      ]
     },
     "execution_count": 32,
     "metadata": {},
     "output_type": "execute_result"
    },
    {
     "data": {
      "image/png": "[encoded data removed]",
      "text/plain": [
       "<Figure size 432x288 with 1 Axes>"
      ]
     },
     "metadata": {
      "needs_background": "light"
     },
     "output_type": "display_data"
    }
   ],
   "source": [
    "data = train_dataset.take(1)\n",
    "images, labels = list(data)[0]\n",
    "images = images.numpy()\n",
    "image = images[0]\n",
    "\n",
    "plt.imshow(np.squeeze(image[:, :, 30]), cmap='gray')"
   ]
  },
  {
   "cell_type": "markdown",
   "id": "924a3a67",
   "metadata": {},
   "source": [
    "## The Network"
   ]
  },
  {
   "cell_type": "code",
   "execution_count": 37,
   "id": "65999295",
   "metadata": {},
   "outputs": [],
   "source": [
    "def get_model(width=128, height=128, depth=64):\n",
    "    \n",
    "    inputs = keras.Input((width, height, depth, 1))\n",
    "    \n",
    "    x = layers.Conv3D(filters=64, kernel_size=3, activation='relu')(inputs)\n",
    "    x = layers.MaxPool3D(pool_size=2)(x)\n",
    "    x = layers.BatchNormalization()(x)\n",
    "    \n",
    "    x = layers.Conv3D(filters=64, kernel_size=3, activation='relu')(x)\n",
    "    x = layers.MaxPool3D(pool_size=2)(x)\n",
    "    x = layers.BatchNormalization()(x)\n",
    "    \n",
    "    x = layers.Conv3D(filters=128, kernel_size=3, activation='relu')(x)\n",
    "    x = layers.MaxPool3D(pool_size=2)(x)\n",
    "    x = layers.BatchNormalization()(x)\n",
    "    \n",
    "    x = layers.Conv3D(filters=256, kernel_size=3, activation='relu')(x)\n",
    "    x = layers.MaxPool3D(pool_size=2)(x)\n",
    "    x = layers.BatchNormalization()(x)\n",
    "    \n",
    "    x = layers.GlobalAveragePooling3D()(x)\n",
    "    x = layers.Dense(units=512, activation='relu')(x)\n",
    "    x = layers.Dropout(0.3)(x)\n",
    "    \n",
    "    outputs = layers.Dense(units=1, activation='sigmoid')(x)\n",
    "    \n",
    "    model = keras.Model(inputs, outputs, name='3dcnn')\n",
    "    return model"
   ]
  },
  {
   "cell_type": "code",
   "execution_count": 38,
   "id": "a8f5681e",
   "metadata": {},
   "outputs": [
    {
     "name": "stdout",
     "output_type": "stream",
     "text": [
      "Model: \"3dcnn\"\n",
      "_________________________________________________________________\n",
      " Layer (type)                Output Shape              Param #   \n",
      "=================================================================\n",
      " input_2 (InputLayer)        [(None, 128, 128, 64, 1)  0         \n",
      "                             ]                                   \n",
      "                                                                 \n",
      " conv3d_4 (Conv3D)           (None, 126, 126, 62, 64)  1792      \n",
      "                                                                 \n",
      " max_pooling3d_4 (MaxPooling  (None, 63, 63, 31, 64)   0         \n",
      " 3D)                                                             \n",
      "                                                                 \n",
      " batch_normalization_4 (Batc  (None, 63, 63, 31, 64)   256       \n",
      " hNormalization)                                                 \n",
      "                                                                 \n",
      " conv3d_5 (Conv3D)           (None, 61, 61, 29, 64)    110656    \n",
      "                                                                 \n",
      " max_pooling3d_5 (MaxPooling  (None, 30, 30, 14, 64)   0         \n",
      " 3D)                                                             \n",
      "                                                                 \n",
      " batch_normalization_5 (Batc  (None, 30, 30, 14, 64)   256       \n",
      " hNormalization)                                                 \n",
      "                                                                 \n",
      " conv3d_6 (Conv3D)           (None, 28, 28, 12, 128)   221312    \n",
      "                                                                 \n",
      " max_pooling3d_6 (MaxPooling  (None, 14, 14, 6, 128)   0         \n",
      " 3D)                                                             \n",
      "                                                                 \n",
      " batch_normalization_6 (Batc  (None, 14, 14, 6, 128)   512       \n",
      " hNormalization)                                                 \n",
      "                                                                 \n",
      " conv3d_7 (Conv3D)           (None, 12, 12, 4, 256)    884992    \n",
      "                                                                 \n",
      " max_pooling3d_7 (MaxPooling  (None, 6, 6, 2, 256)     0         \n",
      " 3D)                                                             \n",
      "                                                                 \n",
      " batch_normalization_7 (Batc  (None, 6, 6, 2, 256)     1024      \n",
      " hNormalization)                                                 \n",
      "                                                                 \n",
      " global_average_pooling3d_1   (None, 256)              0         \n",
      " (GlobalAveragePooling3D)                                        \n",
      "                                                                 \n",
      " dense_2 (Dense)             (None, 512)               131584    \n",
      "                                                                 \n",
      " dropout_1 (Dropout)         (None, 512)               0         \n",
      "                                                                 \n",
      " dense_3 (Dense)             (None, 1)                 513       \n",
      "                                                                 \n",
      "=================================================================\n",
      "Total params: 1,352,897\n",
      "Trainable params: 1,351,873\n",
      "Non-trainable params: 1,024\n",
      "_________________________________________________________________\n"
     ]
    }
   ],
   "source": [
    "model = get_model()\n",
    "model.summary()"
   ]
  },
  {
   "cell_type": "code",
   "execution_count": null,
   "id": "69c9127f",
   "metadata": {},
   "outputs": [
    {
     "name": "stdout",
     "output_type": "stream",
     "text": [
      "Epoch 1/50\n",
      "70/70 - 20s - loss: 0.6987 - acc: 0.5857 - val_loss: 1.2706 - val_acc: 0.5000 - 20s/epoch - 286ms/step\n",
      "Epoch 2/50\n",
      "70/70 - 19s - loss: 0.6375 - acc: 0.6143 - val_loss: 1.9509 - val_acc: 0.5000 - 19s/epoch - 276ms/step\n",
      "Epoch 3/50\n",
      "70/70 - 19s - loss: 0.6506 - acc: 0.6000 - val_loss: 1.9253 - val_acc: 0.5000 - 19s/epoch - 275ms/step\n",
      "Epoch 4/50\n",
      "70/70 - 19s - loss: 0.6057 - acc: 0.6929 - val_loss: 1.7223 - val_acc: 0.5000 - 19s/epoch - 276ms/step\n",
      "Epoch 5/50\n",
      "70/70 - 19s - loss: 0.6742 - acc: 0.5857 - val_loss: 0.6259 - val_acc: 0.6500 - 19s/epoch - 278ms/step\n",
      "Epoch 6/50\n",
      "70/70 - 19s - loss: 0.6366 - acc: 0.6714 - val_loss: 1.3662 - val_acc: 0.5000 - 19s/epoch - 275ms/step\n",
      "Epoch 7/50\n",
      "70/70 - 19s - loss: 0.6512 - acc: 0.6143 - val_loss: 1.7605 - val_acc: 0.5000 - 19s/epoch - 277ms/step\n",
      "Epoch 8/50\n",
      "70/70 - 19s - loss: 0.6298 - acc: 0.6357 - val_loss: 0.5896 - val_acc: 0.6167 - 19s/epoch - 278ms/step\n",
      "Epoch 9/50\n",
      "70/70 - 19s - loss: 0.5909 - acc: 0.6929 - val_loss: 0.7416 - val_acc: 0.6500 - 19s/epoch - 276ms/step\n",
      "Epoch 10/50\n",
      "70/70 - 19s - loss: 0.5881 - acc: 0.6643 - val_loss: 0.6144 - val_acc: 0.6167 - 19s/epoch - 276ms/step\n",
      "Epoch 11/50\n",
      "70/70 - 19s - loss: 0.5941 - acc: 0.6929 - val_loss: 0.5708 - val_acc: 0.7167 - 19s/epoch - 277ms/step\n",
      "Epoch 12/50\n",
      "70/70 - 19s - loss: 0.6327 - acc: 0.6643 - val_loss: 0.8740 - val_acc: 0.6000 - 19s/epoch - 274ms/step\n",
      "Epoch 13/50\n",
      "70/70 - 19s - loss: 0.5917 - acc: 0.6929 - val_loss: 0.5920 - val_acc: 0.6667 - 19s/epoch - 276ms/step\n",
      "Epoch 14/50\n",
      "70/70 - 19s - loss: 0.5937 - acc: 0.6786 - val_loss: 0.5789 - val_acc: 0.6833 - 19s/epoch - 276ms/step\n",
      "Epoch 15/50\n",
      "70/70 - 19s - loss: 0.5691 - acc: 0.6786 - val_loss: 0.6227 - val_acc: 0.6833 - 19s/epoch - 276ms/step\n",
      "Epoch 16/50\n",
      "70/70 - 19s - loss: 0.5538 - acc: 0.6929 - val_loss: 0.5324 - val_acc: 0.7167 - 19s/epoch - 277ms/step\n",
      "Epoch 17/50\n"
     ]
    }
   ],
   "source": [
    "initial_learning_rate = 0.0001\n",
    "lr_schedule = keras.optimizers.schedules.ExponentialDecay(\n",
    "    initial_learning_rate, decay_steps=100000, decay_rate=0.96, \n",
    "    staircase=True\n",
    ")\n",
    "\n",
    "model.compile(\n",
    "    loss=\"binary_crossentropy\",\n",
    "    optimizer = keras.optimizers.Adam(learning_rate=lr_schedule),\n",
    "    metrics=[\"acc\"]\n",
    ")\n",
    "\n",
    "checkpoint_cb = keras.callbacks.ModelCheckpoint(\n",
    "    \"3d_image_classification.h5\",\n",
    "    save_best_only=True\n",
    ")\n",
    "early_stopping_cb = keras.callbacks.EarlyStopping(monitor='val_acc', patience=15)\n",
    "\n",
    "epochs = 50\n",
    "model.fit(\n",
    "    train_dataset,\n",
    "    validation_data=validation_dataset,\n",
    "    epochs=epochs,\n",
    "    shuffle=True,\n",
    "    verbose=2,\n",
    "    callbacks=[checkpoint_cb, early_stopping_cb]\n",
    ")"
   ]
  },
  {
   "cell_type": "markdown",
   "id": "a8ce92a2",
   "metadata": {},
   "source": [
    "## Vizualization"
   ]
  },
  {
   "cell_type": "code",
   "execution_count": null,
   "id": "99390225",
   "metadata": {},
   "outputs": [],
   "source": [
    "fig, ax = plt.subplots(1, 2, figsize=(20, 3))\n",
    "ax = ax.ravel()\n",
    "\n",
    "for i, metric in enumerate([\"acc\", \"loss\"]):\n",
    "    ax[i].plot(model.history.history[metric])\n",
    "    ax[i].plot(model.history.history[\"val_\" + metric])\n",
    "    \n",
    "    ax[i].set_title(f\"Model {metric}\")\n",
    "    ax[i].set_xlabel(\"epochs\")\n",
    "    ax[i].set_ylabel(metric)\n",
    "    ax[i].legend([\"train\", \"val\"])"
   ]
  }
 ],
 "metadata": {
  "kernelspec": {
   "display_name": "tensorflow",
   "language": "python",
   "name": "tensorflow"
  },
  "language_info": {
   "codemirror_mode": {
    "name": "ipython",
    "version": 3
   },
   "file_extension": ".py",
   "mimetype": "text/x-python",
   "name": "python",
   "nbconvert_exporter": "python",
   "pygments_lexer": "ipython3",
   "version": "3.9.12"
  }
 },
 "nbformat": 4,
 "nbformat_minor": 5
}
